{
 "cells": [
  {
   "cell_type": "markdown",
   "id": "06f4825a-2231-4db8-aa28-eecaa668801f",
   "metadata": {},
   "source": [
    "# Juliaの基本"
   ]
  },
  {
   "cell_type": "code",
   "execution_count": null,
   "id": "c1e13093-bf50-42dc-9c51-6af6010c70f6",
   "metadata": {},
   "outputs": [],
   "source": [
    "a = 1"
   ]
  },
  {
   "cell_type": "code",
   "execution_count": null,
   "id": "30b5de7a-7422-4562-8e40-109b6c81fb46",
   "metadata": {},
   "outputs": [],
   "source": [
    "typeof(a)"
   ]
  },
  {
   "cell_type": "code",
   "execution_count": null,
   "id": "83942ac1-6562-47c1-8fdc-f53098c8b68b",
   "metadata": {},
   "outputs": [],
   "source": [
    "a = 1.0\n",
    "typeof(a)"
   ]
  },
  {
   "cell_type": "code",
   "execution_count": null,
   "id": "ec91a4f2-e254-4a71-a864-d8ed4b08ce2b",
   "metadata": {},
   "outputs": [],
   "source": [
    "a = 1.0 + 2\n",
    "typeof(a)"
   ]
  },
  {
   "cell_type": "code",
   "execution_count": null,
   "id": "eaccb08e-f2b6-4ddf-9509-91e4aadabf6e",
   "metadata": {},
   "outputs": [],
   "source": [
    "a = \"Hello world!!\"\n",
    "typeof(a)"
   ]
  },
  {
   "cell_type": "code",
   "execution_count": null,
   "id": "21a8a586-779c-4ebd-a228-f291d3f04981",
   "metadata": {},
   "outputs": [],
   "source": [
    "a = 5\n",
    "b = 3\n",
    "println(\"$(a) + $(b) = $(a+b)\")\n",
    "println(\"$(a) - $(b) = $(a-b)\")\n",
    "println(\"$(a) * $(b) = $(a*b)\")\n",
    "println(\"$(a) / $(b) = $(a/b)\")\n",
    "println(\"$(a) // $(b) = $(a//b)\")\n",
    "println(\"div($(a), $(b)) = $(div(a, b))\")\n",
    "println(\"$(a) // $(b) = $(a//b)\")\n",
    "println(\"$(a) ^ $(b) = $(a^b)\")"
   ]
  },
  {
   "cell_type": "code",
   "execution_count": null,
   "id": "a6fb074f-186c-4ab1-8192-33939f5a1152",
   "metadata": {},
   "outputs": [],
   "source": [
    "2a"
   ]
  },
  {
   "cell_type": "code",
   "execution_count": null,
   "id": "9a4345a3-256b-4c37-a37c-0d6c749f3128",
   "metadata": {},
   "outputs": [],
   "source": [
    "a + b * a - b"
   ]
  },
  {
   "cell_type": "code",
   "execution_count": null,
   "id": "da2999d5-d275-44d2-b061-78ac83b6717c",
   "metadata": {},
   "outputs": [],
   "source": [
    "(a + b) * (a - b)"
   ]
  },
  {
   "cell_type": "code",
   "execution_count": null,
   "id": "c6e5e437-f8b1-4e7c-b336-f97c3ca86e34",
   "metadata": {},
   "outputs": [],
   "source": [
    "3a^b"
   ]
  },
  {
   "cell_type": "code",
   "execution_count": null,
   "id": "1107dc7a-479b-4fe2-af93-82493d2be8d5",
   "metadata": {},
   "outputs": [],
   "source": [
    "for i in 1:5\n",
    "    println(i)\n",
    "end"
   ]
  },
  {
   "cell_type": "code",
   "execution_count": null,
   "id": "4dd8eb3b-829d-4a07-9894-09935347c751",
   "metadata": {},
   "outputs": [],
   "source": [
    "for i in 1:2:9\n",
    "    println(i)\n",
    "end"
   ]
  },
  {
   "cell_type": "code",
   "execution_count": null,
   "id": "c71acbcd-49d6-4e09-94e8-ae746ecfbb60",
   "metadata": {},
   "outputs": [],
   "source": [
    "for i in 5:-1:1\n",
    "    println(i)\n",
    "end"
   ]
  },
  {
   "cell_type": "code",
   "execution_count": null,
   "id": "54b0945b-04aa-4d19-a10c-2235b2bd4ba7",
   "metadata": {},
   "outputs": [],
   "source": [
    "for i in range(1, stop=5, length=9)\n",
    "    println(i)\n",
    "end"
   ]
  },
  {
   "cell_type": "code",
   "execution_count": null,
   "id": "03d7a50b-5772-4d6a-9bb3-197d5dc91cf9",
   "metadata": {},
   "outputs": [],
   "source": [
    "h = 2\n",
    "w = 3\n",
    "for i in 1:h\n",
    "    for j in 1:w\n",
    "        println(w * (i - 1) + j)\n",
    "    end\n",
    "end"
   ]
  },
  {
   "cell_type": "code",
   "execution_count": null,
   "id": "467cca26-8bca-4edd-8b03-d3eaa6d0c744",
   "metadata": {},
   "outputs": [],
   "source": [
    "h = 2\n",
    "w = 3\n",
    "for i in 1:h, j in 1:w\n",
    "    println(w * (i - 1) + j)\n",
    "end"
   ]
  },
  {
   "cell_type": "code",
   "execution_count": null,
   "id": "cd474f9c-10a2-4d16-b9ce-3ce7b6f40225",
   "metadata": {},
   "outputs": [],
   "source": [
    "a = 1\n",
    "while a <= 5\n",
    "    println(a)\n",
    "    a += 1\n",
    "end"
   ]
  },
  {
   "cell_type": "code",
   "execution_count": null,
   "id": "7bc00744-1f41-4642-85c3-ac9edd425b63",
   "metadata": {},
   "outputs": [],
   "source": [
    "a = zeros(5)"
   ]
  },
  {
   "cell_type": "code",
   "execution_count": null,
   "id": "328f79a7-38c2-4463-ba1a-d497826f27f0",
   "metadata": {},
   "outputs": [],
   "source": [
    "a = zeros(3, 4)"
   ]
  },
  {
   "cell_type": "code",
   "execution_count": null,
   "id": "56a33814-39c4-4023-827b-7f568f99b184",
   "metadata": {},
   "outputs": [],
   "source": [
    "a = zeros(3, 4, 5)"
   ]
  },
  {
   "cell_type": "code",
   "execution_count": null,
   "id": "5198b82b-7566-4bca-9319-f8f6277ef0dc",
   "metadata": {},
   "outputs": [],
   "source": [
    "size(a)"
   ]
  },
  {
   "cell_type": "code",
   "execution_count": null,
   "id": "abe987d3-9881-4d03-b69c-9f8981a98c9e",
   "metadata": {},
   "outputs": [],
   "source": [
    "size(a, 2)"
   ]
  },
  {
   "cell_type": "code",
   "execution_count": null,
   "id": "9000a03d-178e-4e20-859a-095438fdc6c8",
   "metadata": {},
   "outputs": [],
   "source": [
    "zeros(Int32, 5)"
   ]
  },
  {
   "cell_type": "code",
   "execution_count": null,
   "id": "c286caca-14c9-47e8-b3fa-19fb99934829",
   "metadata": {},
   "outputs": [],
   "source": [
    "println(ones(5))\n",
    "println(rand(5))\n",
    "println(randn(5))"
   ]
  },
  {
   "cell_type": "code",
   "execution_count": null,
   "id": "8a955545-bbef-4913-9fbd-f9c7483ee3be",
   "metadata": {},
   "outputs": [],
   "source": [
    "a = [1, 2, 3, 4, 5]"
   ]
  },
  {
   "cell_type": "code",
   "execution_count": null,
   "id": "5240d464-679e-4769-8663-f19702627041",
   "metadata": {},
   "outputs": [],
   "source": [
    "a = [1; 2; 3; 4; 5]"
   ]
  },
  {
   "cell_type": "code",
   "execution_count": null,
   "id": "ea5ee9d5-fe7d-4ba5-9e65-e64c855fd7d6",
   "metadata": {},
   "outputs": [],
   "source": [
    "a = [1 2 3 4 5]"
   ]
  },
  {
   "cell_type": "code",
   "execution_count": null,
   "id": "e82e8d08-67a1-4129-8935-18b1eee33feb",
   "metadata": {},
   "outputs": [],
   "source": [
    "a = [i for i in 1:5]"
   ]
  },
  {
   "cell_type": "code",
   "execution_count": null,
   "id": "0d08bdc3-5a9a-4569-959d-44928460e109",
   "metadata": {},
   "outputs": [],
   "source": [
    "a[3]"
   ]
  },
  {
   "cell_type": "code",
   "execution_count": null,
   "id": "838f802f-a250-4c8f-8e50-e34e85cc5042",
   "metadata": {},
   "outputs": [],
   "source": [
    "a[4:5]"
   ]
  },
  {
   "cell_type": "code",
   "execution_count": null,
   "id": "5afd4308-fe32-4f91-a930-5b53fd6d568f",
   "metadata": {},
   "outputs": [],
   "source": [
    "a = [1 2 3 4]"
   ]
  },
  {
   "cell_type": "code",
   "execution_count": null,
   "id": "76e926ab-7385-4cac-bb1a-e56023c4f8ff",
   "metadata": {},
   "outputs": [],
   "source": [
    "a = [1 2; 3 4]"
   ]
  },
  {
   "cell_type": "code",
   "execution_count": null,
   "id": "7a84a909-e416-477f-adea-2af424897aa5",
   "metadata": {},
   "outputs": [],
   "source": [
    "h = 4\n",
    "w = 5\n",
    "a = [w * (i - 1) + j for i in 1:h, j in 1:w]"
   ]
  },
  {
   "cell_type": "code",
   "execution_count": null,
   "id": "8241354c-ca89-4512-9295-332dc7b91331",
   "metadata": {},
   "outputs": [],
   "source": [
    "a[2, :]"
   ]
  },
  {
   "cell_type": "code",
   "execution_count": null,
   "id": "1aa1d4b8-6fa3-4bf2-aea3-ddbd6d2350e1",
   "metadata": {},
   "outputs": [],
   "source": [
    "a[2:3, 4:5]"
   ]
  },
  {
   "cell_type": "code",
   "execution_count": null,
   "id": "c0059526-41ba-4408-8de1-54fb38b671b9",
   "metadata": {},
   "outputs": [],
   "source": [
    "a'"
   ]
  },
  {
   "cell_type": "code",
   "execution_count": null,
   "id": "64d9871b-63b4-4f81-999d-707663e58a97",
   "metadata": {},
   "outputs": [],
   "source": [
    "a = [i for i in 1:5]\n",
    "b = [2i for i in 1:5]\n",
    "println(\"a is $(a)\")\n",
    "println(\"b is $(b)\")\n",
    "a + b"
   ]
  },
  {
   "cell_type": "code",
   "execution_count": null,
   "id": "c17e5b53-58e2-4e89-b720-3f04f6053eae",
   "metadata": {},
   "outputs": [],
   "source": [
    "a * b"
   ]
  },
  {
   "cell_type": "code",
   "execution_count": null,
   "id": "1b597e35-5c43-4c98-9c4f-2b6f4ca66e47",
   "metadata": {},
   "outputs": [],
   "source": [
    "a * b'"
   ]
  },
  {
   "cell_type": "code",
   "execution_count": null,
   "id": "3d90ccc5-0d36-404c-805d-b3a6134b47bb",
   "metadata": {},
   "outputs": [],
   "source": [
    "a .* b"
   ]
  },
  {
   "cell_type": "code",
   "execution_count": null,
   "id": "9f74c7b5-ee01-4a33-b537-7d3d87635d01",
   "metadata": {},
   "outputs": [],
   "source": [
    "a .+ 1"
   ]
  },
  {
   "cell_type": "code",
   "execution_count": null,
   "id": "aca4bd52-aae1-4681-8214-77d767b2c4a2",
   "metadata": {},
   "outputs": [],
   "source": [
    "c = rand(3, 3)"
   ]
  },
  {
   "cell_type": "code",
   "execution_count": null,
   "id": "08d4806c-3a15-439b-bb32-27186e04e5b0",
   "metadata": {},
   "outputs": [],
   "source": [
    "inv(c)"
   ]
  },
  {
   "cell_type": "code",
   "execution_count": null,
   "id": "afc33691-8c28-41f2-b5ef-b85785448b87",
   "metadata": {},
   "outputs": [],
   "source": [
    "c * inv(c)"
   ]
  },
  {
   "cell_type": "code",
   "execution_count": null,
   "id": "f9ce0e81-bc81-42b1-ad81-04e2b76fc3c6",
   "metadata": {},
   "outputs": [],
   "source": [
    "function double(x)\n",
    "    2x\n",
    "end"
   ]
  },
  {
   "cell_type": "code",
   "execution_count": null,
   "id": "0aef1a8c-6400-40bb-92bc-18d58a7cbceb",
   "metadata": {},
   "outputs": [],
   "source": [
    "double(1)"
   ]
  },
  {
   "cell_type": "code",
   "execution_count": null,
   "id": "d4132381-d3e8-47e2-b80f-d4c30cb9f484",
   "metadata": {},
   "outputs": [],
   "source": [
    "double.([1, 2, 3])"
   ]
  },
  {
   "cell_type": "code",
   "execution_count": null,
   "id": "2b3c1cd2-d67f-488b-bd01-1ff6271abab4",
   "metadata": {},
   "outputs": [],
   "source": [
    "function plus_one(x)\n",
    "    x += 1\n",
    "    return x\n",
    "end"
   ]
  },
  {
   "cell_type": "code",
   "execution_count": null,
   "id": "ca35cbeb-5fd0-41a2-86da-a315f54991ca",
   "metadata": {},
   "outputs": [],
   "source": [
    "a = 0\n",
    "plus_one(a)\n",
    "a"
   ]
  },
  {
   "cell_type": "code",
   "execution_count": null,
   "id": "1788f65d-abcf-43bc-a5a9-b7d61bae9c34",
   "metadata": {},
   "outputs": [],
   "source": [
    "a = ones(5)\n",
    "plus_one.(a)\n",
    "a"
   ]
  },
  {
   "cell_type": "code",
   "execution_count": null,
   "id": "c03cd213-d56e-4616-8417-f3c5fa24f9d7",
   "metadata": {},
   "outputs": [],
   "source": [
    "plus_one!(x, place) = x[place] += 1"
   ]
  },
  {
   "cell_type": "code",
   "execution_count": null,
   "id": "844779ff-93b7-4025-a83d-3a3754901fb3",
   "metadata": {},
   "outputs": [],
   "source": [
    "a = ones(5)\n",
    "plus_one!(a, 3)\n",
    "a"
   ]
  },
  {
   "cell_type": "code",
   "execution_count": null,
   "id": "ed480eaa-47e2-458c-bc40-8d9f98e774b6",
   "metadata": {},
   "outputs": [],
   "source": [
    "plus_one!(x) = x += 1\n",
    "a = 1\n",
    "plus_one!(a)\n",
    "a"
   ]
  },
  {
   "cell_type": "markdown",
   "id": "d1744fd0-119d-401e-bf59-61eb9208300d",
   "metadata": {},
   "source": [
    "# Plots"
   ]
  },
  {
   "cell_type": "code",
   "execution_count": null,
   "id": "ea994674-6454-4255-99b9-606d9b08982f",
   "metadata": {},
   "outputs": [],
   "source": [
    "using Plots"
   ]
  },
  {
   "cell_type": "code",
   "execution_count": null,
   "id": "666a0f7c-eef9-4d5b-8696-6eec8d79f330",
   "metadata": {},
   "outputs": [],
   "source": [
    "plot(rand(100))"
   ]
  },
  {
   "cell_type": "code",
   "execution_count": null,
   "id": "f63b7e72-1c58-42be-9016-26522bb62c11",
   "metadata": {},
   "outputs": [],
   "source": [
    "histogram(randn(1000))"
   ]
  },
  {
   "cell_type": "code",
   "execution_count": null,
   "id": "d18d5287-c954-48b6-be13-8e387f7e9d06",
   "metadata": {},
   "outputs": [],
   "source": [
    "plot(rand(100))\n",
    "plot!(rand(100))"
   ]
  },
  {
   "cell_type": "markdown",
   "id": "1f5df602-67ed-49d8-8010-7e79900715f7",
   "metadata": {},
   "source": [
    "# おまけ"
   ]
  },
  {
   "cell_type": "code",
   "execution_count": null,
   "id": "34e858ac-5b8e-4bf0-b0f4-6175b8852bde",
   "metadata": {},
   "outputs": [],
   "source": [
    "function g(x)\n",
    "    x^6 - 10x^4 - 0.5x^3 + 18x^2 + x\n",
    "end\n",
    "\n",
    "function ∆g(x)\n",
    "    6x^5 - 40x^3 - 1.5x^2 + 36x + 1\n",
    "end"
   ]
  },
  {
   "cell_type": "code",
   "execution_count": null,
   "id": "b6a2baeb-3e61-46f0-9cb8-d6683701ca2e",
   "metadata": {},
   "outputs": [],
   "source": [
    "x_min = -3\n",
    "x_max = 3\n",
    "x = range(x_min, x_max, length=100)"
   ]
  },
  {
   "cell_type": "code",
   "execution_count": null,
   "id": "2fcf748b-bd48-4021-928d-44b4d4fafaa2",
   "metadata": {},
   "outputs": [],
   "source": [
    "plot(x, g.(x))"
   ]
  },
  {
   "cell_type": "code",
   "execution_count": null,
   "id": "a062a717-4953-44fc-9d69-68c553b47e0f",
   "metadata": {},
   "outputs": [],
   "source": [
    "plot(x, ∆g.(x))"
   ]
  },
  {
   "cell_type": "code",
   "execution_count": null,
   "id": "a7793f27-7c95-4620-9372-3c43e67d3aad",
   "metadata": {},
   "outputs": [],
   "source": [
    "p = [0.0]\n",
    "v = [0.0]\n",
    "nframe = 1000000\n",
    "for i in 1:nframe\n",
    "    new_v = v[end] - ∆g(p[end]) + 30 * randn()\n",
    "    new_p = p[end] + new_v * 0.0000001\n",
    "    push!(v, new_v)\n",
    "    push!(p, new_p)\n",
    "end\n",
    "\n",
    "min_y = minimum(g.(x))\n",
    "anim = @animate for i = 1:100:nframe\n",
    "    plot(x, g.(x), legend = false)\n",
    "    scatter!(p[i:i], g.(p[i:i]), legend = false)\n",
    "    scatter!([x_min + i/nframe * (x_max - x_min)], [min_y], legend = false)\n",
    "end\n",
    "gif(anim, \"tmp.gif\", fps = 50)"
   ]
  },
  {
   "cell_type": "code",
   "execution_count": null,
   "id": "14cc25b0-7946-485c-a9a7-439c452f6cf5",
   "metadata": {},
   "outputs": [],
   "source": []
  }
 ],
 "metadata": {
  "kernelspec": {
   "display_name": "Julia 1.6.1",
   "language": "julia",
   "name": "julia-1.6"
  },
  "language_info": {
   "file_extension": ".jl",
   "mimetype": "application/julia",
   "name": "julia",
   "version": "1.6.1"
  }
 },
 "nbformat": 4,
 "nbformat_minor": 5
}
