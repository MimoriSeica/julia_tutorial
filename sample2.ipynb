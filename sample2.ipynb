{
 "cells": [
  {
   "cell_type": "code",
   "execution_count": null,
   "id": "9b6106c7-a798-4719-a59d-c490cac2a5a8",
   "metadata": {},
   "outputs": [],
   "source": [
    "function dfs_a(arr, now, pla, n, k)\n",
    "    if pla > n\n",
    "        return now == k\n",
    "    end\n",
    "    \n",
    "    if dfs_a(arr, now + arr[pla], pla+1, n, k)\n",
    "        return true\n",
    "    elseif dfs_a(arr, now, pla+1, n, k)\n",
    "        return true\n",
    "    end\n",
    "    return false \n",
    "end\n",
    "\n",
    "function func_a(arr, k)\n",
    "    n = length(arr)\n",
    "    return dfs_a(arr, 0, 1, n, k)\n",
    "end"
   ]
  },
  {
   "cell_type": "code",
   "execution_count": null,
   "id": "af36ee32-1ddf-4549-a7c7-509df9ab0367",
   "metadata": {},
   "outputs": [],
   "source": [
    "function func_b(arr, k)\n",
    "    n = length(arr)\n",
    "    for mask in 0:(1<<n)\n",
    "        now = 0\n",
    "        for i in 1:n\n",
    "            if mask & (1<<(i-1)) != 0\n",
    "                now += arr[i]\n",
    "            end\n",
    "        end\n",
    "        if now == k\n",
    "            return true\n",
    "        end\n",
    "    end\n",
    "    return false\n",
    "end"
   ]
  },
  {
   "cell_type": "code",
   "execution_count": null,
   "id": "39793ec7-80ed-43fc-ba10-45b0cc678d60",
   "metadata": {},
   "outputs": [],
   "source": [
    "arr = [1, 3, 5, 7, 9]\n",
    "k = 11"
   ]
  },
  {
   "cell_type": "code",
   "execution_count": null,
   "id": "5730d9fb-edc8-4227-99c5-b99153fd4bdd",
   "metadata": {},
   "outputs": [],
   "source": [
    "func_a(arr, k)"
   ]
  },
  {
   "cell_type": "code",
   "execution_count": null,
   "id": "26cf36bd-822f-490f-af03-301bb488892c",
   "metadata": {},
   "outputs": [],
   "source": [
    "func_b(arr, k)"
   ]
  },
  {
   "cell_type": "code",
   "execution_count": null,
   "id": "a01f0fd3-a874-4386-9953-edefa66ba2d8",
   "metadata": {},
   "outputs": [],
   "source": [
    "arr = [1, 3, 5, 7, 9]\n",
    "k = 2"
   ]
  },
  {
   "cell_type": "code",
   "execution_count": null,
   "id": "184303f8-2a64-4339-ba71-849b9b39a9dd",
   "metadata": {},
   "outputs": [],
   "source": [
    "func_a(arr, k)"
   ]
  },
  {
   "cell_type": "code",
   "execution_count": null,
   "id": "01c2914c-2240-4935-b04e-ac792daee71d",
   "metadata": {},
   "outputs": [],
   "source": [
    "func_b(arr, k)"
   ]
  },
  {
   "cell_type": "code",
   "execution_count": null,
   "id": "50c00cca-8025-4190-8fcb-8da1291d21b8",
   "metadata": {},
   "outputs": [],
   "source": [
    "@time func_a(arr, k)"
   ]
  },
  {
   "cell_type": "code",
   "execution_count": null,
   "id": "80c56625-74af-49d6-9aaf-57699fbd76af",
   "metadata": {},
   "outputs": [],
   "source": [
    "using BenchmarkTools"
   ]
  },
  {
   "cell_type": "code",
   "execution_count": null,
   "id": "27eab346-4803-477c-89f7-0472baec01e9",
   "metadata": {},
   "outputs": [],
   "source": [
    "benchmark_result = @benchmark func_a(arr, k)"
   ]
  },
  {
   "cell_type": "code",
   "execution_count": null,
   "id": "959d5d5e-3d31-4b0b-b1f7-ccae1f07f8ee",
   "metadata": {},
   "outputs": [],
   "source": [
    "mean(benchmark_result)"
   ]
  },
  {
   "cell_type": "code",
   "execution_count": null,
   "id": "d076e31a-1459-4584-ac22-eaf6780aa715",
   "metadata": {},
   "outputs": [],
   "source": [
    "mean(benchmark_result).time"
   ]
  },
  {
   "cell_type": "code",
   "execution_count": null,
   "id": "f809337f-21e7-47ae-a511-4afbfd0e337e",
   "metadata": {},
   "outputs": [],
   "source": [
    "times_a = []\n",
    "times_b = []\n",
    "for n in 5:15\n",
    "    arr = rand(1:100, n)\n",
    "    k = n*100\n",
    "    a = @benchmark func_a(arr, k)\n",
    "    b = @benchmark func_b(arr, k)\n",
    "    push!(times_a, mean(a).time)\n",
    "    push!(times_b, mean(b).time)\n",
    "end"
   ]
  },
  {
   "cell_type": "code",
   "execution_count": null,
   "id": "f8423d22-7d11-4423-ad01-2c7c40d2edfa",
   "metadata": {},
   "outputs": [],
   "source": [
    "using Plots"
   ]
  },
  {
   "cell_type": "code",
   "execution_count": null,
   "id": "25227dac-fb72-409d-88be-f662f3f2bc48",
   "metadata": {},
   "outputs": [],
   "source": [
    "plot(5:15, times_a, legend = false)\n",
    "plot!(5:15, times_b, legend = false)"
   ]
  },
  {
   "cell_type": "code",
   "execution_count": null,
   "id": "d9240db2-472a-4356-b78e-6b720cbe1608",
   "metadata": {},
   "outputs": [],
   "source": [
    "for i in 1:10\n",
    "    println(Threads.threadid())\n",
    "end"
   ]
  },
  {
   "cell_type": "code",
   "execution_count": null,
   "id": "050de676-498f-4052-8f91-4a072d110b3a",
   "metadata": {},
   "outputs": [],
   "source": [
    "Threads.@threads for i in 1:10\n",
    "    println(Threads.threadid())\n",
    "end"
   ]
  },
  {
   "cell_type": "code",
   "execution_count": null,
   "id": "275d7123-3512-4c33-bead-ae1a9c9693dd",
   "metadata": {},
   "outputs": [],
   "source": [
    "lines = readlines(\"data/3dh5.pdb\")"
   ]
  },
  {
   "cell_type": "code",
   "execution_count": null,
   "id": "0e070f59-30b5-4152-ae35-2cade72b0015",
   "metadata": {},
   "outputs": [],
   "source": [
    "atom_line = \"\"\n",
    "for line in lines\n",
    "    if startswith(line, \"ATOM\")\n",
    "        atom_line = line\n",
    "    end\n",
    "end\n",
    "atom_line"
   ]
  },
  {
   "cell_type": "code",
   "execution_count": null,
   "id": "ddd0f02f-a436-4982-b64f-4e029a3db855",
   "metadata": {},
   "outputs": [],
   "source": [
    "atom_line[18:20] # res"
   ]
  },
  {
   "cell_type": "code",
   "execution_count": null,
   "id": "c996d08e-e94d-4a73-aad8-e66b2ba85ee3",
   "metadata": {},
   "outputs": [],
   "source": [
    "atom_line[31:38] # x"
   ]
  },
  {
   "cell_type": "code",
   "execution_count": null,
   "id": "c309dbca-66e5-473c-899c-b737b09875f1",
   "metadata": {},
   "outputs": [],
   "source": [
    "atom_line[39:46] # y"
   ]
  },
  {
   "cell_type": "code",
   "execution_count": null,
   "id": "598002a7-b4f0-4971-abb6-e38353dd726f",
   "metadata": {},
   "outputs": [],
   "source": [
    "atom_line[47:54] # z"
   ]
  },
  {
   "cell_type": "code",
   "execution_count": null,
   "id": "03a66a8a-dc8f-477f-8285-0a22fa34c635",
   "metadata": {},
   "outputs": [],
   "source": [
    "parse(Float64, atom_line[31:38])"
   ]
  },
  {
   "cell_type": "code",
   "execution_count": null,
   "id": "0dfffc47-95e3-47e4-9889-baa90630074e",
   "metadata": {},
   "outputs": [],
   "source": [
    "residue_map = Dict(\n",
    "    \"ALA\" => \"A\",\n",
    "    \"ARG\" => \"R\",\n",
    "    \"ASN\" => \"N\",\n",
    "    \"ASP\" => \"D\",\n",
    "    \"CYS\" => \"C\",\n",
    "    \"GLN\" => \"Q\",\n",
    "    \"GLU\" => \"E\",\n",
    "    \"GLY\" => \"G\",\n",
    "    \"HIS\" => \"H\",\n",
    "    \"ILE\" => \"I\",\n",
    "    \"LEU\" => \"L\",\n",
    "    \"LYS\" => \"K\",\n",
    "    \"MET\" => \"M\",\n",
    "    \"PHE\" => \"F\",\n",
    "    \"PRO\" => \"P\",\n",
    "    \"SER\" => \"S\",\n",
    "    \"THR\" => \"T\",\n",
    "    \"TRP\" => \"W\",\n",
    "    \"TYR\" => \"Y\",\n",
    "    \"VAL\" => \"V\",\n",
    "    \"ASX\" => \"B\",\n",
    "    \"XAA\" => \"X\",\n",
    "    \"GLX\" => \"Z\"\n",
    ")"
   ]
  },
  {
   "cell_type": "code",
   "execution_count": null,
   "id": "2b8778ed-06cb-490f-9908-e9488f6d9b7e",
   "metadata": {},
   "outputs": [],
   "source": [
    "function readpdb(file_name; chain_select = ' ')\n",
    "    x = Array{Float64, 1}()\n",
    "    y = Array{Float64, 1}()\n",
    "    z = Array{Float64, 1}()\n",
    "    res = Array{String, 1}()\n",
    "    res_count = 0\n",
    "    natom = 0\n",
    "    for line in readlines(file_name)\n",
    "        if !startswith(line, \"ATOM\") continue end        \n",
    "        if chain_select != ' ' && line[22] != chain_select continue end\n",
    "        \n",
    "        push!(x, parse(Float64, line[31:38]))\n",
    "        push!(y, parse(Float64, line[39:46]))\n",
    "        push!(z, parse(Float64, line[47:54]))\n",
    "                    \n",
    "        if parse(Int64, line[23:26]) != res_count\n",
    "            res_count = parse(Int64, line[23:26])\n",
    "            push!(res, residue_map[line[18:20]])\n",
    "        end\n",
    "        \n",
    "        natom += 1\n",
    "    end\n",
    "    return (x = x, y = y, z = z, natom = natom, res = res)\n",
    "end"
   ]
  },
  {
   "cell_type": "code",
   "execution_count": null,
   "id": "eb68dce1-73ce-45f9-a58d-c6d23df807af",
   "metadata": {},
   "outputs": [],
   "source": [
    "pdb_1un5 = readpdb(\"data/1un5.pdb\", chain_select = 'A')\n",
    "pdb_3dh5 = readpdb(\"data/3dh5.pdb\", chain_select = 'A')\n",
    "pdb_2h6x = readpdb(\"data/2h6x.pdb\", chain_select = 'A');"
   ]
  },
  {
   "cell_type": "code",
   "execution_count": null,
   "id": "a407a9de-c219-4c38-be12-090578e0b216",
   "metadata": {},
   "outputs": [],
   "source": [
    "scatter(pdb_1un5.x, pdb_1un5.y, pdb_1un5.z)"
   ]
  },
  {
   "cell_type": "code",
   "execution_count": null,
   "id": "39d3eca8-e8f3-4951-91e5-03584304e3b0",
   "metadata": {},
   "outputs": [],
   "source": [
    "function get_distance_map(pdb)\n",
    "    distance_map = zeros(pdb.natom, pdb.natom)\n",
    "    for i in 1:pdb.natom, j in 1:pdb.natom\n",
    "        distance_map[i, j] = sqrt((pdb.x[i] - pdb.x[j])^2 + (pdb.y[i] - pdb.y[j])^2 + (pdb.z[i] - pdb.z[j])^2)\n",
    "    end\n",
    "    return distance_map\n",
    "end"
   ]
  },
  {
   "cell_type": "code",
   "execution_count": null,
   "id": "75f7cb41-e991-4d10-bd84-7147d6e18dbc",
   "metadata": {},
   "outputs": [],
   "source": [
    "heatmap(get_distance_map(pdb_1un5))"
   ]
  },
  {
   "cell_type": "code",
   "execution_count": null,
   "id": "11f92765-f7a2-46b8-881c-3cc15934260b",
   "metadata": {},
   "outputs": [],
   "source": [
    "heatmap(get_distance_map(pdb_2h6x))"
   ]
  },
  {
   "cell_type": "code",
   "execution_count": null,
   "id": "3d52d12d-d6f0-494f-997d-6d1164e66370",
   "metadata": {},
   "outputs": [],
   "source": [
    "function read_score_talbe(file_name)\n",
    "    lines = readlines(file_name)\n",
    "    res_map = Dict()\n",
    "    res = split(lines[1])\n",
    "    for i in 1:length(res)\n",
    "        res_map[res[i]] = i\n",
    "    end\n",
    "\n",
    "    table = Array{Int64}(undef, length(res), length(res))\n",
    "\n",
    "    for i in 2:length(lines)\n",
    "        rows = split(lines[i])\n",
    "        for j in 2:length(rows)\n",
    "            table[i-1, j-1] = parse(Int64, rows[j])\n",
    "        end\n",
    "    end\n",
    "    \n",
    "    return (map = res_map, table = table)\n",
    "end\n",
    "\n",
    "st = read_score_talbe(\"data/blosum62.txt\")"
   ]
  },
  {
   "cell_type": "code",
   "execution_count": null,
   "id": "8f423b9a-47dd-4a6a-ae28-f1c4a18895b9",
   "metadata": {},
   "outputs": [],
   "source": [
    "st.map"
   ]
  },
  {
   "cell_type": "code",
   "execution_count": null,
   "id": "0ababc45-457c-4d93-84f0-c40547c3be6b",
   "metadata": {},
   "outputs": [],
   "source": [
    "st.table"
   ]
  },
  {
   "cell_type": "code",
   "execution_count": null,
   "id": "316b484e-0164-4e59-92fc-f75c721ac024",
   "metadata": {},
   "outputs": [],
   "source": [
    "get_score(st, res_a, res_b) = st.table[st.map[res_a], st.map[res_b]]"
   ]
  },
  {
   "cell_type": "code",
   "execution_count": null,
   "id": "6d9e4765-02dd-4b80-9631-5a33358d4853",
   "metadata": {},
   "outputs": [],
   "source": [
    "get_score(st, \"A\", \"W\")"
   ]
  },
  {
   "cell_type": "code",
   "execution_count": null,
   "id": "e84dbee7-7cbc-4c50-9c26-67ecfffeface",
   "metadata": {},
   "outputs": [],
   "source": [
    "function alignment(st, res_a, res_b)\n",
    "    length_a = length(res_a)\n",
    "    length_b = length(res_b)\n",
    "    dp = [-Inf for i in 1:length_a+1, j in 1:length_b+1]\n",
    "    from = [(-1, -1) for i in 1:length_a+1, j in 1:length_b+1]\n",
    "    dp[1, 1] = 0\n",
    "    for i in 1:length_a+1, j in 1:length_b+1       \n",
    "        if i <= length_a\n",
    "            score = dp[i, j] + get_score(st, res_a[i], \"*\")\n",
    "            if dp[i+1, j] < score\n",
    "                dp[i+1, j] = score\n",
    "                from[i+1, j] = (i, j)\n",
    "            end\n",
    "        end\n",
    "        if j <= length_b\n",
    "            score = dp[i, j] + get_score(st, \"*\", res_b[j])\n",
    "            if dp[i, j+1] < score\n",
    "                dp[i, j+1] = score\n",
    "                from[i, j+1] = (i, j)\n",
    "            end\n",
    "        end\n",
    "        if i <= length_a && j <= length_b\n",
    "            score = dp[i, j] + get_score(st, res_a[i], res_b[j])\n",
    "            if dp[i+1, j+1] < score\n",
    "                dp[i+1, j+1] = score\n",
    "                from[i+1, j+1] = (i, j)\n",
    "            end\n",
    "        end\n",
    "    end\n",
    "    \n",
    "    str_a = \"\"\n",
    "    str_b = \"\"\n",
    "    now = (length_a+1, length_b+1)\n",
    "    while now != (1, 1)\n",
    "        pre = from[now[1], now[2]]\n",
    "        if pre[1] == now[1]\n",
    "            str_a *= ' '\n",
    "            str_b *= res_b[pre[2]]\n",
    "        elseif pre[2] == now[2]\n",
    "            str_a *= res_a[pre[1]]\n",
    "            str_b *= ' '\n",
    "        else\n",
    "            str_a *= res_a[pre[1]]\n",
    "            str_b *= res_b[pre[2]]\n",
    "        end\n",
    "        \n",
    "        now = pre\n",
    "    end\n",
    "    \n",
    "    str_a = reverse(str_a)\n",
    "    str_b = reverse(str_b)\n",
    "    \n",
    "    return (score = dp[length_a+1, length_b+1], str_a = str_a, str_b = str_b)\n",
    "end"
   ]
  },
  {
   "cell_type": "code",
   "execution_count": null,
   "id": "485df2b7-6e95-493e-babd-ff91e275058a",
   "metadata": {},
   "outputs": [],
   "source": [
    "alignment(st, [\"K\", \"E\", \"T\", \"A\", \"A\"], [\"K\", \"T\", \"A\", \"A\"])"
   ]
  },
  {
   "cell_type": "code",
   "execution_count": null,
   "id": "004ff110-e99f-42ca-9423-6dbaa78df37b",
   "metadata": {},
   "outputs": [],
   "source": [
    "alignment(st, pdb_1un5.res, pdb_1un5.res)"
   ]
  },
  {
   "cell_type": "code",
   "execution_count": null,
   "id": "a6b88f8a-5a6d-4888-96c5-034afc7a1bb9",
   "metadata": {},
   "outputs": [],
   "source": [
    "alignment(st, pdb_1un5.res, pdb_3dh5.res)"
   ]
  },
  {
   "cell_type": "code",
   "execution_count": null,
   "id": "02650bcc-02ad-4e07-b7ef-cfa5c145a9f6",
   "metadata": {},
   "outputs": [],
   "source": [
    "alignment(st, pdb_1un5.res, pdb_2h6x.res)"
   ]
  },
  {
   "cell_type": "code",
   "execution_count": null,
   "id": "2a450a17-03e7-45d2-96e4-67eff645e32a",
   "metadata": {},
   "outputs": [],
   "source": [
    "alignment(st, pdb_3dh5.res, pdb_3dh5.res)"
   ]
  },
  {
   "cell_type": "code",
   "execution_count": null,
   "id": "f7206882-eeb2-491b-b9b6-ebba5687d0cf",
   "metadata": {},
   "outputs": [],
   "source": [
    "alignment(st, pdb_3dh5.res, pdb_2h6x.res)"
   ]
  },
  {
   "cell_type": "code",
   "execution_count": null,
   "id": "207f0753-fe48-4c03-84db-69dc86d0ed17",
   "metadata": {},
   "outputs": [],
   "source": [
    "alignment(st, pdb_2h6x.res, pdb_2h6x.res)"
   ]
  },
  {
   "cell_type": "code",
   "execution_count": null,
   "id": "8392aa7d-ca21-4b5c-9fed-52bf716b4e4e",
   "metadata": {},
   "outputs": [],
   "source": []
  }
 ],
 "metadata": {
  "kernelspec": {
   "display_name": "Julia 1.6.1",
   "language": "julia",
   "name": "julia-1.6"
  },
  "language_info": {
   "file_extension": ".jl",
   "mimetype": "application/julia",
   "name": "julia",
   "version": "1.6.1"
  }
 },
 "nbformat": 4,
 "nbformat_minor": 5
}
